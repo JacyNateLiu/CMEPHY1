{
 "cells": [
  {
   "cell_type": "markdown",
   "id": "f79417ae",
   "metadata": {},
   "source": [
    "# Geospatial Machine Learning: Classifying Land Use Based on Environmental and Economic Features"
   ]
  },
  {
   "cell_type": "markdown",
   "id": "50f9fb06",
   "metadata": {},
   "source": [
    "# 1. Introduction"
   ]
  },
  {
   "cell_type": "markdown",
   "id": "88bd3eda",
   "metadata": {},
   "source": [
    "In this project, we analyze the Geospatial Environmental and Socioeconomic Data to explore the relationship between tree cover loss by dominant driver, land cover, and Gross Domestic Product (GDP) across different Philippine regions. Our goal is to extract insights by examining how economic activity and land use patterns relate to deforestation and environmental change. By integrating spatial layers such as land cover classification, tree cover loss drivers, and gridded GDP data, we aim to identify regional trends and potential correlations that reveal the socioeconomic and environmental dynamics influencing forest degradation.\n",
    "\n",
    "Specifically, we seek to answer the question:\n",
    "How does tree cover loss by its dominant drivers correlate with land cover types and regional economic activity (GDP), and what patterns emerge across Luzon, Visayas, and Mindanao?"
   ]
  },
  {
   "cell_type": "markdown",
   "id": "bbb7ed87",
   "metadata": {},
   "source": [
    "# 2. Description of the Dataset"
   ]
  },
  {
   "cell_type": "markdown",
   "id": "3fc0e277",
   "metadata": {},
   "source": [
    "## Geospatial Environmental and Socioeconomic Data  \n",
    "**by Cathetorres (2020) – Kaggle**\n",
    "\n",
    "This dataset is a comprehensive compilation of global **geospatial vector and raster data**, integrating diverse environmental and socioeconomic indicators. Collected from multiple authoritative sources, it provides detailed spatial layers useful for analysis in sustainability, development, and environmental monitoring.\n",
    "\n",
    "The dataset is structured into **12 thematic folders**, each covering a distinct data category:\n",
    "\n",
    "1. **Cities and Towns** – Geospatial data for urban areas in point and polygon formats.  \n",
    "2. **Roads and Railroads** – Global transportation infrastructure networks.  \n",
    "3. **Airports and Ports** – Locations of major air and sea transportation hubs.  \n",
    "4. **Power Plants** – Spatial distribution of energy production facilities.  \n",
    "5. **Gridded Population (2015)** – High-resolution (250 m) global population estimates.  \n",
    "6. **Gridded GDP and HDI (1990–2015)** – Socioeconomic data showing economic productivity and development trends over time.  \n",
    "7. **Land Cover (2015)** – Classification of global land cover types based on satellite data.  \n",
    "8. **Tree Cover Loss by Dominant Driver** – Causes of deforestation disaggregated by primary driving factors.  \n",
    "9. **Carbon Accumulation Potential** – Estimates of carbon sequestration from natural forest regrowth in forests and savannas.  \n",
    "10. **Solar Energy Potential** – Spatial potential for solar power generation across the globe.  \n",
    "11. **Air Temperature** – Global surface temperature data for climate studies.  \n",
    "12. **Global Cattle Distribution (2010)** – Spatial density of cattle populations with 5-arcminute resolution."
   ]
  },
  {
   "cell_type": "markdown",
   "id": "06e8fe5c",
   "metadata": {},
   "source": [
    "## Dataset Folders Used\n",
    "\n",
    "For this project, we utilize selected folders from the **Geospatial Environmental and Socioeconomic Data** collection to analyze the relationship between **tree cover loss**, **land cover**, and **economic activity (GDP)** in the Philippines. Our analysis focuses on understanding how different land use patterns and levels of economic development may be associated with forest degradation and environmental change.\n",
    "\n",
    "### Land Cover\n",
    "\n",
    "- **7. Gridded Land Cover 2015**  \n",
    "  This dataset provides a global classification of land cover types at a 250 m resolution. It includes categories such as forest, cropland, urban area, grassland, and water. We use this as a base layer to contextualize areas of tree cover loss and to examine how land cover varies across economic regions.\n",
    "\n",
    "### Tree Cover Loss\n",
    "\n",
    "- **8. Tree Cover Loss by Dominant Driver (2001–2019)**  \n",
    "  This dataset identifies the **main driver of tree cover loss** in each 10 km grid cell, classified into categories such as commodity-driven deforestation, shifting agriculture, forestry, wildfire, and urbanization. It allows us to assess how and why forest loss occurs in different parts of the country.\n",
    "\n",
    "### Economic Activity\n",
    "\n",
    "- **6. Gridded Gross Domestic Product and Human Development Index (1990–2015)**  \n",
    "  This dataset provides **total GDP (PPP)** values at a 5 arc-minute (~10 km) resolution, enabling us to estimate economic activity at subnational scales. We use the 2015 GDP layer to explore potential spatial correlations between economic development and tree cover loss patterns.\n"
   ]
  },
  {
   "cell_type": "markdown",
   "id": "0f1e24c1",
   "metadata": {},
   "source": [
    "# 3. Importing Files and Python Libraries"
   ]
  },
  {
   "cell_type": "markdown",
   "id": "db1f062f",
   "metadata": {},
   "source": [
    "Here are the libraries and modules that will be used in this notebook:"
   ]
  },
  {
   "cell_type": "code",
   "execution_count": null,
   "id": "5747686c",
   "metadata": {},
   "outputs": [],
   "source": [
    "import rasterio\n",
    "import numpy as np\n",
    "import xarray as xr\n",
    "import pandas as pd\n",
    "import matplotlib.pyplot as plt\n",
    "import seaborn as sns\n",
    "\n",
    "from rasterio.enums import Resampling\n",
    "from rasterio.warp import reproject"
   ]
  },
  {
   "cell_type": "markdown",
   "id": "b9de67a1",
   "metadata": {},
   "source": [
    "### Importing the Files"
   ]
  },
  {
   "cell_type": "markdown",
   "id": "1c8bacbc",
   "metadata": {},
   "source": [
    "Loads three geospatial datasets: tree cover loss, land cover, and GDP"
   ]
  },
  {
   "cell_type": "code",
   "execution_count": null,
   "id": "8d7a68ce",
   "metadata": {},
   "outputs": [],
   "source": [
    "tl_path = 'Goode_FinalClassification_19_05pcnt_prj.tif'\n",
    "lc_path = 'ESACCI-LC-L4-LCCS-Map-300m-P1Y-2015-v2.0.7.tif'\n",
    "gdp_path = 'GDP_PPP_1990_2015_5arcmin_v2.nc'"
   ]
  },
  {
   "cell_type": "markdown",
   "id": "83862168",
   "metadata": {},
   "source": [
    "**Load Tree Cover Loss by Dominant Driver and Load Land Cover**"
   ]
  },
  {
   "cell_type": "markdown",
   "id": "a393ab2c",
   "metadata": {},
   "source": [
    "Loads tree cover loss and land cover rasters and extracts their metadata for further processing."
   ]
  },
  {
   "cell_type": "code",
   "execution_count": null,
   "id": "ddff4562",
   "metadata": {},
   "outputs": [],
   "source": [
    "with rasterio.open(tl_path) as tree_src:\n",
    "    tree_data = tree_src.read(1)\n",
    "    tree_transform = tree_src.transform\n",
    "    tree_crs = tree_src.crs\n",
    "    tree_nodata = tree_src.nodata\n",
    "    tree_meta = {\n",
    "        'crs': tree_crs,\n",
    "        'transform': tree_transform\n",
    "    }\n",
    "    print(f\"Tree Cover Loss Raster: {tree_data.shape}, CRS: {tree_crs}\")\n",
    "\n",
    "with rasterio.open(lc_path) as lc_src:\n",
    "    lc_data = lc_src.read(1)\n",
    "    lc_transform = lc_src.transform\n",
    "    lc_crs = lc_src.crs\n",
    "    lc_nodata = lc_src.nodata\n",
    "    lc_meta = {\n",
    "        'crs': lc_crs,\n",
    "        'transform': lc_transform\n",
    "    }\n",
    "    print(f\"Land Cover Raster: {lc_data.shape}, CRS: {lc_crs}\")"
   ]
  },
  {
   "cell_type": "markdown",
   "id": "0c4af423",
   "metadata": {},
   "source": [
    "**Load GDP**"
   ]
  },
  {
   "cell_type": "markdown",
   "id": "eb455fcc",
   "metadata": {},
   "source": [
    "Loads and extracts 2015 GDP data from the NetCDF file using xarray."
   ]
  },
  {
   "cell_type": "code",
   "execution_count": null,
   "id": "dfe21ed8",
   "metadata": {},
   "outputs": [],
   "source": [
    "ds = xr.open_dataset(gdp_path)\n",
    "print(ds)\n",
    "\n",
    "# Extract 2015 GDP layer\n",
    "gdp_2015 = ds['GDP_PPP'].sel(time=2015)\n",
    "print(f\"GDP 2015 shape: {gdp_2015.shape}\")"
   ]
  },
  {
   "cell_type": "markdown",
   "id": "3b30b6ba",
   "metadata": {},
   "source": [
    "# 4. Data Preprocessing and Cleaning\n",
    "\n",
    "Before conducting analysis, the geospatial datasets require preprocessing to ensure they are properly aligned and comparable. We reproject and resample the datasets. Additionally, we address missing or invalid data by filtering out NoData values and outliers."
   ]
  },
  {
   "cell_type": "markdown",
   "id": "fb43602e",
   "metadata": {},
   "source": [
    "**Checking the Resolution**"
   ]
  },
  {
   "cell_type": "code",
   "execution_count": null,
   "id": "423e2a69",
   "metadata": {},
   "outputs": [],
   "source": [
    "print(f\"Tree Loss CRS: {tree_crs}, Res: {tree_transform[0]}°\")\n",
    "print(f\"Land Cover CRS: {lc_crs}, Res: {lc_transform[0]}°\")\n",
    "print(f\"GDP CRS: EPSG:4326 (assumed), Res: ~5 arcmin (~10 km)\")"
   ]
  },
  {
   "cell_type": "markdown",
   "id": "201ebad6",
   "metadata": {},
   "source": [
    "**Resampling**"
   ]
  },
  {
   "cell_type": "markdown",
   "id": "d1d24674",
   "metadata": {},
   "source": [
    "Since the shape of the datasets are not alligned we will define the spatial transform and shape of the 2015 GDP grid for alignment with other datasets."
   ]
  },
  {
   "cell_type": "code",
   "execution_count": null,
   "id": "3d42badf",
   "metadata": {},
   "outputs": [],
   "source": [
    "gdp_lon = gdp_2015['longitude'].values\n",
    "gdp_lat = gdp_2015['latitude'].values\n",
    "\n",
    "from rasterio.transform import from_origin\n",
    "gdp_transform = from_origin(\n",
    "    west=gdp_lon.min(),\n",
    "    north=gdp_lat.max(),\n",
    "    xsize=abs(gdp_lon[1] - gdp_lon[0]),\n",
    "    ysize=abs(gdp_lat[1] - gdp_lat[0])\n",
    ")\n",
    "\n",
    "gdp_shape = gdp_2015.shape"
   ]
  },
  {
   "cell_type": "markdown",
   "id": "57b0149c",
   "metadata": {},
   "source": [
    "Reprojects a source raster array to match a target shape, transform, and CRS."
   ]
  },
  {
   "cell_type": "code",
   "execution_count": null,
   "id": "d202cf7f",
   "metadata": {},
   "outputs": [],
   "source": [
    "def reproject_match(src_array, src_meta, dst_shape, dst_transform, dst_crs=\"EPSG:4326\", method=Resampling.mode):\n",
    "    dst_array = np.empty(dst_shape, dtype=src_array.dtype)\n",
    "    reproject(\n",
    "        source=src_array,\n",
    "        destination=dst_array,\n",
    "        src_transform=src_meta['transform'],\n",
    "        src_crs=src_meta['crs'],\n",
    "        dst_transform=dst_transform,\n",
    "        dst_crs=dst_crs,\n",
    "        resampling=method\n",
    "    )\n",
    "    return dst_array"
   ]
  },
  {
   "cell_type": "code",
   "execution_count": null,
   "id": "43323a5c",
   "metadata": {},
   "outputs": [],
   "source": [
    "tree_data_resampled = reproject_match(\n",
    "    src_array=tree_data,\n",
    "    src_meta=tree_meta,\n",
    "    dst_shape=gdp_shape,\n",
    "    dst_transform=gdp_transform,\n",
    "    method=Resampling.nearest\n",
    ")\n",
    "\n",
    "lc_data_resampled = reproject_match(\n",
    "    src_array=lc_data,\n",
    "    src_meta=lc_meta,\n",
    "    dst_shape=gdp_shape,\n",
    "    dst_transform=gdp_transform,\n",
    "    method=Resampling.mode\n",
    ")"
   ]
  },
  {
   "cell_type": "markdown",
   "id": "4b128e1e",
   "metadata": {},
   "source": [
    "**Mask Invalid Values and Create DataFrame**"
   ]
  },
  {
   "cell_type": "markdown",
   "id": "562a346e",
   "metadata": {},
   "source": [
    "Filters valid pixels and creates a DataFrame combining GDP, tree loss driver, and land cover values."
   ]
  },
  {
   "cell_type": "code",
   "execution_count": null,
   "id": "b1b5dd50",
   "metadata": {},
   "outputs": [],
   "source": [
    "gdp_array = gdp_2015.values\n",
    "\n",
    "valid_mask = (\n",
    "    (gdp_array >= 0) &\n",
    "    (tree_data_resampled >= 0) & (tree_data_resampled <= 5) &\n",
    "    (lc_data_resampled >= 0)\n",
    ")\n",
    "\n",
    "df = pd.DataFrame({\n",
    "    \"GDP\": gdp_array[valid_mask],\n",
    "    \"TreeLossDriver\": tree_data_resampled[valid_mask].astype(int),\n",
    "    \"LandCover\": lc_data_resampled[valid_mask].astype(int)\n",
    "})"
   ]
  },
  {
   "cell_type": "code",
   "execution_count": null,
   "id": "9d8b7241",
   "metadata": {},
   "outputs": [],
   "source": [
    "print(df.head())"
   ]
  },
  {
   "cell_type": "markdown",
   "id": "fe8a91dc",
   "metadata": {},
   "source": [
    "**Creating a Dataframe**"
   ]
  },
  {
   "cell_type": "markdown",
   "id": "435c30cf",
   "metadata": {},
   "source": [
    "Creates 2D latitude and longitude grids matching the GDP data shape using meshgrid."
   ]
  },
  {
   "cell_type": "code",
   "execution_count": null,
   "id": "d25a544f",
   "metadata": {},
   "outputs": [],
   "source": [
    "lon_vals = gdp_2015['longitude'].values\n",
    "lat_vals = gdp_2015['latitude'].values\n",
    "lon_grid, lat_grid = np.meshgrid(lon_vals, lat_vals)"
   ]
  },
  {
   "cell_type": "markdown",
   "id": "88c379e3",
   "metadata": {},
   "source": [
    "Creates a DataFrame with GDP, tree loss driver, land cover, and coordinates for valid pixels."
   ]
  },
  {
   "cell_type": "code",
   "execution_count": null,
   "id": "4d12b040",
   "metadata": {},
   "outputs": [],
   "source": [
    "df = pd.DataFrame({\n",
    "    \"GDP\": gdp_array[valid_mask],\n",
    "    \"TreeLossDriver\": tree_data_resampled[valid_mask].astype(int),\n",
    "    \"LandCover\": lc_data_resampled[valid_mask].astype(int),\n",
    "    \"Lat\": lat_grid[valid_mask],\n",
    "    \"Lon\": lon_grid[valid_mask]\n",
    "})"
   ]
  },
  {
   "cell_type": "markdown",
   "id": "8ef7fa66",
   "metadata": {},
   "source": [
    "**Filtering**"
   ]
  },
  {
   "cell_type": "markdown",
   "id": "57493bb6",
   "metadata": {},
   "source": [
    "Since our target location is only Philippines and its 3 main islands groups, we will filter the data based on the coordinates and store them in their own dataframes for easier access."
   ]
  },
  {
   "cell_type": "code",
   "execution_count": null,
   "id": "81c4a0b3",
   "metadata": {},
   "outputs": [],
   "source": [
    "philippines_df = df[\n",
    "    (df[\"Lat\"] >= 4.5) & (df[\"Lat\"] <= 21) &\n",
    "    (df[\"Lon\"] >= 116) & (df[\"Lon\"] <= 127)\n",
    "]"
   ]
  },
  {
   "cell_type": "code",
   "execution_count": null,
   "id": "6c935870",
   "metadata": {},
   "outputs": [],
   "source": [
    "luzon_df = philippines_df[\n",
    "    (philippines_df[\"Lat\"] >= 12.0) & (philippines_df[\"Lat\"] <= 21.0) &\n",
    "    (philippines_df[\"Lon\"] >= 118.0) & (philippines_df[\"Lon\"] <= 124.0)\n",
    "]\n",
    "\n",
    "visayas_df = philippines_df[\n",
    "    (philippines_df[\"Lat\"] >= 9.5) & (philippines_df[\"Lat\"] < 12.0) &\n",
    "    (philippines_df[\"Lon\"] >= 122.0) & (philippines_df[\"Lon\"] <= 126.0)\n",
    "]\n",
    "\n",
    "mindanao_df = philippines_df[\n",
    "    (philippines_df[\"Lat\"] >= 4.5) & (philippines_df[\"Lat\"] < 9.5) &\n",
    "    (philippines_df[\"Lon\"] >= 124.0) & (philippines_df[\"Lon\"] <= 127.0)\n",
    "]"
   ]
  },
  {
   "cell_type": "markdown",
   "id": "0f00ab78",
   "metadata": {},
   "source": [
    "# 5. Exploratory Data Analysis"
   ]
  },
  {
   "cell_type": "markdown",
   "id": "db194ce2",
   "metadata": {},
   "source": [
    "In this section, we perform an exploratory analysis of the geospatial datasets,tree cover loss drivers, land cover, and Gross Domestic Product (GDP), to understand their spatial patterns and relationships across the Philippines. We focus on the three main island groups: Luzon, Visayas, and Mindanao, by filtering the data using approximate latitude and longitude boundaries.\n",
    "\n",
    "It is important to note that these geographic filters define rectangular bounding boxes which approximate the locations of the Philippines and its island groups. Therefore, the resulting analyses are estimates, as this method does not account for the exact shapes or coastlines of the islands."
   ]
  },
  {
   "cell_type": "markdown",
   "id": "ddcb3eb3",
   "metadata": {},
   "source": [
    "## 1. What is the distribution of Tree Cover Loss by Dominant Drivers in Philippines?\n",
    "\n",
    "### Distribution of Tree Cover Loss by Dominant Drivers in the Philippines\n",
    "\n",
    "| Code | Driver Description                                                                 | Count |\n",
    "|------|-----------------------------------------------------------------------------------|-------|\n",
    "| 0    | None                                                                              | 1256  |\n",
    "| 1    | Commodity-driven deforestation: long-term, permanent conversion of forest and shrubland to a non-forest land use such as agriculture (including oil palm), mining, or energy infrastructure | 1153  |\n",
    "| 2    | Shifting agriculture: small to medium-scale forest and shrubland conversion for agriculture that is later abandoned and followed by subsequent forest regrowth | 2178  |\n",
    "| 3    | Forestry: large-scale forestry operations occurring within managed forests and tree plantations | 479   |\n",
    "| 4    | Wildfire: large-scale forest loss resulting from the burning of forest vegetation with no visible human conversion or agricultural activity afterward | 0     |\n",
    "| 5    | Urbanization: forest and shrubland conversion for the expansion and intensification of existing urban centers | 195   |\n",
    "\n",
    "**Interpretation:**  \n",
    "- The leading cause of tree cover loss in the Philippines is **shifting agriculture (code 2)**, with 2178 pixels.\n",
    "- **None (code 0)** and **commodity-driven deforestation (code 1)** are also significant contributors.\n",
    "- **Forestry (code 3)** and **urbanization (code 5)** play smaller roles.\n",
    "- **Wildfire (code 4)** does not appear as a significant driver in this dataset.\n",
    "\n",
    "Most tree cover loss is due to shifting agriculture, followed by commodity-driven deforestation and areas with no dominant driver. Forestry and urbanization contribute less, and wildfire is not a notable factor in this dataset."
   ]
  },
  {
   "cell_type": "code",
   "execution_count": null,
   "id": "ab798f2d",
   "metadata": {},
   "outputs": [],
   "source": [
    "# Function to plot bar charts for a region with fixed color\n",
    "def plot_driver_distribution(counts, region_name):\n",
    "    plt.figure(figsize=(8,5))\n",
    "    sns.barplot(x=counts.index.astype(str), y=counts.values, color='steelblue')\n",
    "    plt.title(f'Tree Cover Loss Drivers in {region_name}')\n",
    "    plt.xlabel('Driver Category')\n",
    "    plt.ylabel('Number of Pixels')\n",
    "    plt.xticks(rotation=0)\n",
    "    plt.show()\n",
    "\n",
    "# Calculate counts for Philippines and regions\n",
    "philippines_counts = philippines_df['TreeLossDriver'].value_counts().sort_index()\n",
    "luzon_counts = luzon_df['TreeLossDriver'].value_counts().sort_index()\n",
    "visayas_counts = visayas_df['TreeLossDriver'].value_counts().sort_index()\n",
    "mindanao_counts = mindanao_df['TreeLossDriver'].value_counts().sort_index()\n",
    "\n",
    "# Print counts\n",
    "print(\"Tree Cover Loss Drivers in Philippines:\")\n",
    "print(philippines_counts, \"\\n\")\n",
    "\n",
    "# Plot bar charts\n",
    "plot_driver_distribution(philippines_counts, 'Philippines')\n"
   ]
  },
  {
   "cell_type": "markdown",
   "id": "ae186fc5",
   "metadata": {},
   "source": [
    "## 2. What is the distribution of Tree Cover Loss by Dominant Drivers in the 3 main island groups?\n",
    "\n",
    "### Distribution of Tree Cover Loss by Dominant Drivers in Luzon, Visayas, and Mindanao\n",
    "\n",
    "| Region   | None (0) | Commodity-driven (1) | Shifting Agriculture (2) | Forestry (3) | Wildfire (4) | Urbanization (5) |\n",
    "|----------|----------|----------------------|--------------------------|--------------|--------------|------------------|\n",
    "| **Luzon**    | 549      | 134                  | 892                      | 147          | 0            | 98               |\n",
    "| **Visayas**  | 247      | 20                   | 361                      | 104          | 0            | 42               |\n",
    "| **Mindanao** | 111      | 197                  | 476                      | 168          | 0            | 38               |\n",
    "\n",
    "**Interpretation:**\n",
    "- **Shifting agriculture (2)** is the leading cause of tree cover loss in all three regions, especially in Luzon and Mindanao.\n",
    "- **Commodity-driven deforestation (1)** is most prominent in Mindanao (197 pixels), but much lower in Luzon and Visayas.\n",
    "- **Forestry (3)** is a notable driver in all regions, with the highest count in Mindanao.\n",
    "- **Urbanization (5)** contributes more in Luzon than in Visayas or Mindanao.\n",
    "- **None (0)** is also a significant category, especially in Luzon.\n",
    "- **Wildfire (4)** does not appear as a significant driver in any region.\n",
    "\n",
    "Overall, the dominant drivers of tree cover loss vary by region, with shifting agriculture being the most consistent and commodity-driven deforestation particularly important in Mindanao."
   ]
  },
  {
   "cell_type": "code",
   "execution_count": null,
   "id": "d5967f0a",
   "metadata": {},
   "outputs": [],
   "source": [
    "# Print counts\n",
    "print(\"Tree Cover Loss Drivers in Luzon:\")\n",
    "print(luzon_counts, \"\\n\")\n",
    "\n",
    "print(\"Tree Cover Loss Drivers in Visayas:\")\n",
    "print(visayas_counts, \"\\n\")\n",
    "\n",
    "print(\"Tree Cover Loss Drivers in Mindanao:\")\n",
    "print(mindanao_counts, \"\\n\")"
   ]
  },
  {
   "cell_type": "code",
   "execution_count": null,
   "id": "cdc964a4",
   "metadata": {},
   "outputs": [],
   "source": [
    "# Plot bar charts\n",
    "plot_driver_distribution(luzon_counts, 'Luzon')\n",
    "plot_driver_distribution(visayas_counts, 'Visayas')\n",
    "plot_driver_distribution(mindanao_counts, 'Mindanao')"
   ]
  },
  {
   "cell_type": "markdown",
   "id": "3d034193",
   "metadata": {},
   "source": [
    "## 3. What is the distribution of Land Cover types in the Philippines and each island group?"
   ]
  },
  {
   "cell_type": "code",
   "execution_count": null,
   "id": "721146fa",
   "metadata": {},
   "outputs": [],
   "source": [
    "def plot_landcover_distribution(counts, region_name):\n",
    "    plt.figure(figsize=(8,5))\n",
    "    sns.barplot(x=counts.index.astype(str), y=counts.values, color='forestgreen')\n",
    "    plt.title(f'Land Cover Types in {region_name}')\n",
    "    plt.xlabel('Land Cover Category')\n",
    "    plt.ylabel('Number of Pixels')\n",
    "    plt.xticks(rotation=0)\n",
    "    plt.show()"
   ]
  },
  {
   "cell_type": "code",
   "execution_count": null,
   "id": "015363e1",
   "metadata": {},
   "outputs": [],
   "source": [
    "philippines_lc_counts = philippines_df['LandCover'].value_counts().sort_index()\n",
    "luzon_lc_counts = luzon_df['LandCover'].value_counts().sort_index()\n",
    "visayas_lc_counts = visayas_df['LandCover'].value_counts().sort_index()\n",
    "mindanao_lc_counts = mindanao_df['LandCover'].value_counts().sort_index()"
   ]
  },
  {
   "cell_type": "code",
   "execution_count": null,
   "id": "9d70e1f1",
   "metadata": {},
   "outputs": [],
   "source": [
    "print(\"Land Cover Types in Philippines:\")\n",
    "print(philippines_lc_counts, \"\\n\")\n",
    "\n",
    "print(\"Land Cover Types in Luzon:\")\n",
    "print(luzon_lc_counts, \"\\n\")\n",
    "\n",
    "print(\"Land Cover Types in Visayas:\")\n",
    "print(visayas_lc_counts, \"\\n\")\n",
    "\n",
    "print(\"Land Cover Types in Mindanao:\")\n",
    "print(mindanao_lc_counts, \"\\n\")"
   ]
  },
  {
   "cell_type": "code",
   "execution_count": null,
   "id": "6374ac34",
   "metadata": {},
   "outputs": [],
   "source": [
    "plot_landcover_distribution(philippines_lc_counts, 'Philippines')\n",
    "plot_landcover_distribution(luzon_lc_counts, 'Luzon')\n",
    "plot_landcover_distribution(visayas_lc_counts, 'Visayas')\n",
    "plot_landcover_distribution(mindanao_lc_counts, 'Mindanao')"
   ]
  },
  {
   "cell_type": "markdown",
   "id": "447e8b48",
   "metadata": {},
   "source": [
    "## 4. What is the GDP distribution in the Philippines and each island group?"
   ]
  },
  {
   "cell_type": "code",
   "execution_count": null,
   "id": "529595bd",
   "metadata": {},
   "outputs": [],
   "source": [
    "def plot_gdp_distribution(df, region_name):\n",
    "    plt.figure(figsize=(8,5))\n",
    "    sns.histplot(df['GDP'], bins=30, color='gold', kde=True)\n",
    "    plt.title(f'GDP Distribution in {region_name}')\n",
    "    plt.xlabel('GDP (PPP)')\n",
    "    plt.ylabel('Number of Pixels')\n",
    "    plt.show()"
   ]
  },
  {
   "cell_type": "code",
   "execution_count": null,
   "id": "505dcf2f",
   "metadata": {},
   "outputs": [],
   "source": [
    "# Print GDP statistics for each region\n",
    "print(\"GDP Statistics in Philippines:\")\n",
    "print(philippines_df['GDP'].describe(), \"\\n\")\n",
    "\n",
    "print(\"GDP Statistics in Luzon:\")\n",
    "print(luzon_df['GDP'].describe(), \"\\n\")\n",
    "\n",
    "print(\"GDP Statistics in Visayas:\")\n",
    "print(visayas_df['GDP'].describe(), \"\\n\")\n",
    "\n",
    "print(\"GDP Statistics in Mindanao:\")\n",
    "print(mindanao_df['GDP'].describe(), \"\\n\")"
   ]
  },
  {
   "cell_type": "code",
   "execution_count": null,
   "id": "618c9250",
   "metadata": {},
   "outputs": [],
   "source": [
    "plot_gdp_distribution(philippines_df, 'Philippines')\n",
    "plot_gdp_distribution(luzon_df, 'Luzon')\n",
    "plot_gdp_distribution(visayas_df, 'Visayas')\n",
    "plot_gdp_distribution(mindanao_df, 'Mindanao')"
   ]
  },
  {
   "cell_type": "markdown",
   "id": "6d8dd6aa",
   "metadata": {},
   "source": [
    "## 5. Is there a difference in land cover types across Luzon, Visayas, and Mindanao?"
   ]
  },
  {
   "cell_type": "code",
   "execution_count": null,
   "id": "15f2ae21",
   "metadata": {},
   "outputs": [],
   "source": [
    "lc_luzon = luzon_df['LandCover'].value_counts().sort_index()\n",
    "lc_visayas = visayas_df['LandCover'].value_counts().sort_index()\n",
    "lc_mindanao = mindanao_df['LandCover'].value_counts().sort_index()"
   ]
  },
  {
   "cell_type": "code",
   "execution_count": null,
   "id": "10557c62",
   "metadata": {},
   "outputs": [],
   "source": [
    "# Print Land Cover counts for each region (for number 5)\n",
    "print(\"Land Cover Types in Luzon:\")\n",
    "print(lc_luzon, \"\\n\")\n",
    "\n",
    "print(\"Land Cover Types in Visayas:\")\n",
    "print(lc_visayas, \"\\n\")\n",
    "\n",
    "print(\"Land Cover Types in Mindanao:\")\n",
    "print(lc_mindanao, \"\\n\")"
   ]
  },
  {
   "cell_type": "code",
   "execution_count": null,
   "id": "0960f9b2",
   "metadata": {},
   "outputs": [],
   "source": [
    "fig, axes = plt.subplots(1, 3, figsize=(18, 5))\n",
    "sns.barplot(x=lc_luzon.index, y=lc_luzon.values, ax=axes[0], color='green')\n",
    "axes[0].set_title(\"Luzon\")\n",
    "sns.barplot(x=lc_visayas.index, y=lc_visayas.values, ax=axes[1], color='orange')\n",
    "axes[1].set_title(\"Visayas\")\n",
    "sns.barplot(x=lc_mindanao.index, y=lc_mindanao.values, ax=axes[2], color='blue')\n",
    "axes[2].set_title(\"Mindanao\")\n",
    "for ax in axes: ax.set_xlabel(\"Land Cover\"), ax.set_ylabel(\"Count\")\n",
    "plt.tight_layout()\n",
    "plt.show()\n"
   ]
  },
  {
   "cell_type": "markdown",
   "id": "59fcaf86",
   "metadata": {},
   "source": [
    "## 6. What is the correlation between GDP, Land Cover, and Tree Loss Driver in Luzon"
   ]
  },
  {
   "cell_type": "code",
   "execution_count": null,
   "id": "7f7c8c77",
   "metadata": {},
   "outputs": [],
   "source": [
    "corr_luzon = luzon_df[[\"GDP\", \"TreeLossDriver\", \"LandCover\"]].corr()\n",
    "corr_luzon"
   ]
  },
  {
   "cell_type": "code",
   "execution_count": null,
   "id": "5f55cc76",
   "metadata": {},
   "outputs": [],
   "source": [
    "sns.heatmap(corr_luzon, annot=True, cmap=\"viridis\")\n",
    "plt.title(\"Luzon Correlation Matrix\")\n",
    "plt.show()"
   ]
  },
  {
   "cell_type": "markdown",
   "id": "f02c44bd",
   "metadata": {},
   "source": [
    "## 7. Is there spatial clustering of low-GDP areas in Mindanao?"
   ]
  },
  {
   "cell_type": "code",
   "execution_count": null,
   "id": "6cbe9555",
   "metadata": {},
   "outputs": [],
   "source": [
    "low_gdp_threshold = mindanao_df[\"GDP\"].quantile(0.25)\n",
    "low_gdp_mindanao = mindanao_df[mindanao_df[\"GDP\"] <= low_gdp_threshold]"
   ]
  },
  {
   "cell_type": "code",
   "execution_count": null,
   "id": "cb430a24",
   "metadata": {},
   "outputs": [],
   "source": [
    "plt.figure(figsize=(10, 6))\n",
    "plt.scatter(low_gdp_mindanao[\"Lon\"], low_gdp_mindanao[\"Lat\"], c=low_gdp_mindanao[\"GDP\"], cmap=\"Reds\", s=10)\n",
    "plt.colorbar(label=\"GDP (PPP)\")\n",
    "plt.title(\"Low-GDP Spatial Clustering in Mindanao\")\n",
    "plt.xlabel(\"Longitude\")\n",
    "plt.ylabel(\"Latitude\")\n",
    "plt.show()\n"
   ]
  },
  {
   "cell_type": "markdown",
   "id": "0c8633d4",
   "metadata": {},
   "source": [
    "## 8. What is the distribution of tree loss drivers across major land cover types (e.g., forest, cropland, urban)?"
   ]
  },
  {
   "cell_type": "code",
   "execution_count": null,
   "id": "27192533",
   "metadata": {},
   "outputs": [],
   "source": [
    "cross_tab = philippines_df.groupby(['LandCover', 'TreeLossDriver']).size().unstack(fill_value=0)"
   ]
  },
  {
   "cell_type": "code",
   "execution_count": null,
   "id": "4dc351d7",
   "metadata": {},
   "outputs": [],
   "source": [
    "cross_tab_norm = cross_tab.div(cross_tab.sum(axis=1), axis=0)"
   ]
  },
  {
   "cell_type": "code",
   "execution_count": null,
   "id": "9fa01ebd",
   "metadata": {},
   "outputs": [],
   "source": [
    "plt.figure(figsize=(10,6))\n",
    "sns.heatmap(cross_tab_norm, cmap='viridis', annot=True, fmt=\".2f\")\n",
    "plt.title('Proportion of Tree Loss Drivers by Land Cover Type')\n",
    "plt.xlabel('Tree Loss Driver')\n",
    "plt.ylabel('Land Cover Type')\n",
    "plt.show()"
   ]
  },
  {
   "cell_type": "markdown",
   "id": "0f168d3d",
   "metadata": {},
   "source": [
    "## 9. What is the relationship between tree loss intensity and economic output in Luzon?"
   ]
  },
  {
   "cell_type": "code",
   "execution_count": null,
   "id": "491428e9",
   "metadata": {},
   "outputs": [],
   "source": [
    "driver_gdp_luzon = luzon_df.groupby(\"TreeLossDriver\")[\"GDP\"].mean().sort_index()\n",
    "driver_gdp_luzon"
   ]
  },
  {
   "cell_type": "code",
   "execution_count": null,
   "id": "f434914a",
   "metadata": {},
   "outputs": [],
   "source": [
    "driver_gdp_luzon.plot(kind=\"bar\", figsize=(8,5), color='darkgreen')\n",
    "plt.title(\"Mean GDP by Tree Loss Driver (Luzon)\")\n",
    "plt.xlabel(\"Tree Loss Driver\")\n",
    "plt.ylabel(\"Average GDP (PPP)\")\n",
    "plt.grid(True)\n",
    "plt.show()\n"
   ]
  },
  {
   "cell_type": "markdown",
   "id": "76aacf69",
   "metadata": {},
   "source": [
    "## 10. How does land cover relate to GDP across Luzon, Visayas, and Mindanao?"
   ]
  },
  {
   "cell_type": "code",
   "execution_count": null,
   "id": "da7c2b4a",
   "metadata": {},
   "outputs": [],
   "source": [
    "full_df = pd.concat([luzon_df, visayas_df, mindanao_df], ignore_index=True)"
   ]
  },
  {
   "cell_type": "code",
   "execution_count": null,
   "id": "73248531",
   "metadata": {},
   "outputs": [],
   "source": [
    "gdp_by_lc = full_df.groupby([\"Region\", \"LandCover\"])[\"GDP\"].mean().reset_index()\n",
    "display(gdp_by_lc)\n",
    "#gdp_by_lc.head(25)"
   ]
  },
  {
   "cell_type": "code",
   "execution_count": null,
   "id": "8f41f649",
   "metadata": {},
   "outputs": [],
   "source": [
    "plt.figure(figsize=(12, 6))\n",
    "sns.barplot(data=gdp_by_lc, x=\"LandCover\", y=\"GDP\", hue=\"Region\")\n",
    "plt.title(\"Average GDP per Land Cover Type Across Regions\")\n",
    "plt.xlabel(\"Land Cover Type\")\n",
    "plt.ylabel(\"Mean GDP (PPP)\")\n",
    "plt.legend(title=\"Region\")\n",
    "plt.grid(True, axis='y', linestyle='--', alpha=0.6)\n",
    "plt.show()\n"
   ]
  },
  {
   "cell_type": "markdown",
   "id": "919ce210",
   "metadata": {},
   "source": [
    "# Insights and Conclusion"
   ]
  },
  {
   "cell_type": "markdown",
   "id": "e50b355b",
   "metadata": {},
   "source": []
  },
  {
   "cell_type": "markdown",
   "id": "b09e1116",
   "metadata": {},
   "source": [
    "# References"
   ]
  },
  {
   "cell_type": "markdown",
   "id": "a23191f1",
   "metadata": {},
   "source": []
  }
 ],
 "metadata": {
  "kernelspec": {
   "display_name": "Python 3",
   "language": "python",
   "name": "python3"
  },
  "language_info": {
   "codemirror_mode": {
    "name": "ipython",
    "version": 3
   },
   "file_extension": ".py",
   "mimetype": "text/x-python",
   "name": "python",
   "nbconvert_exporter": "python",
   "pygments_lexer": "ipython3",
   "version": "3.12.6"
  }
 },
 "nbformat": 4,
 "nbformat_minor": 5
}
