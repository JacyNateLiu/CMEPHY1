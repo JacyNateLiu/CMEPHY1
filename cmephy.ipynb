{
 "cells": [
  {
   "cell_type": "markdown",
   "id": "f79417ae",
   "metadata": {},
   "source": [
    "# Geospatial Machine Learning: Classifying Land Use Based on Environmental and Economic Features"
   ]
  },
  {
   "cell_type": "markdown",
   "id": "50f9fb06",
   "metadata": {},
   "source": [
    "# 1. Introduction"
   ]
  },
  {
   "cell_type": "markdown",
   "id": "88bd3eda",
   "metadata": {},
   "source": [
    "In this project, we analyze the Geospatial Environmental and Socioeconomic Data to explore the relationship between tree cover loss by dominant driver, land cover, and Gross Domestic Product (GDP) across different Philippine regions. Our goal is to extract insights by examining how economic activity and land use patterns relate to deforestation and environmental change. By integrating spatial layers such as land cover classification, tree cover loss drivers, and gridded GDP data, we aim to identify regional trends and potential correlations that reveal the socioeconomic and environmental dynamics influencing forest degradation.\n",
    "\n",
    "Specifically, we seek to answer the question:\n",
    "How does tree cover loss by its dominant drivers correlate with land cover types and regional economic activity (GDP), and what patterns emerge across Luzon, Visayas, and Mindanao?"
   ]
  },
  {
   "cell_type": "markdown",
   "id": "bbb7ed87",
   "metadata": {},
   "source": [
    "# 2. Description of the Dataset"
   ]
  },
  {
   "cell_type": "markdown",
   "id": "3fc0e277",
   "metadata": {},
   "source": [
    "## Geospatial Environmental and Socioeconomic Data  \n",
    "**by Cathetorres (2020) – Kaggle**\n",
    "\n",
    "This dataset is a comprehensive compilation of global **geospatial vector and raster data**, integrating diverse environmental and socioeconomic indicators. Collected from multiple authoritative sources, it provides detailed spatial layers useful for analysis in sustainability, development, and environmental monitoring.\n",
    "\n",
    "The dataset is structured into **12 thematic folders**, each covering a distinct data category:\n",
    "\n",
    "1. **Cities and Towns** – Geospatial data for urban areas in point and polygon formats.  \n",
    "2. **Roads and Railroads** – Global transportation infrastructure networks.  \n",
    "3. **Airports and Ports** – Locations of major air and sea transportation hubs.  \n",
    "4. **Power Plants** – Spatial distribution of energy production facilities.  \n",
    "5. **Gridded Population (2015)** – High-resolution (250 m) global population estimates.  \n",
    "6. **Gridded GDP and HDI (1990–2015)** – Socioeconomic data showing economic productivity and development trends over time.  \n",
    "7. **Land Cover (2015)** – Classification of global land cover types based on satellite data.  \n",
    "8. **Tree Cover Loss by Dominant Driver** – Causes of deforestation disaggregated by primary driving factors.  \n",
    "9. **Carbon Accumulation Potential** – Estimates of carbon sequestration from natural forest regrowth in forests and savannas.  \n",
    "10. **Solar Energy Potential** – Spatial potential for solar power generation across the globe.  \n",
    "11. **Air Temperature** – Global surface temperature data for climate studies.  \n",
    "12. **Global Cattle Distribution (2010)** – Spatial density of cattle populations with 5-arcminute resolution."
   ]
  },
  {
   "cell_type": "markdown",
   "id": "06e8fe5c",
   "metadata": {},
   "source": [
    "## Dataset Folders Used\n",
    "\n",
    "For this project, we utilize selected folders from the **Geospatial Environmental and Socioeconomic Data** collection to analyze the relationship between **tree cover loss**, **land cover**, and **economic activity (GDP)** in the Philippines. Our analysis focuses on understanding how different land use patterns and levels of economic development may be associated with forest degradation and environmental change.\n",
    "\n",
    "### Land Cover\n",
    "\n",
    "- **7. Gridded Land Cover 2015**  \n",
    "  This dataset provides a global classification of land cover types at a 250 m resolution. It includes categories such as forest, cropland, urban area, grassland, and water. We use this as a base layer to contextualize areas of tree cover loss and to examine how land cover varies across economic regions.\n",
    "\n",
    "### Tree Cover Loss\n",
    "\n",
    "- **8. Tree Cover Loss by Dominant Driver (2001–2019)**  \n",
    "  This dataset identifies the **main driver of tree cover loss** in each 10 km grid cell, classified into categories such as commodity-driven deforestation, shifting agriculture, forestry, wildfire, and urbanization. It allows us to assess how and why forest loss occurs in different parts of the country.\n",
    "\n",
    "### Economic Activity\n",
    "\n",
    "- **6. Gridded Gross Domestic Product and Human Development Index (1990–2015)**  \n",
    "  This dataset provides **total GDP (PPP)** values at a 5 arc-minute (~10 km) resolution, enabling us to estimate economic activity at subnational scales. We use the 2015 GDP layer to explore potential spatial correlations between economic development and tree cover loss patterns.\n"
   ]
  },
  {
   "cell_type": "markdown",
   "id": "0f1e24c1",
   "metadata": {},
   "source": [
    "# 3. Importing Files and Python Libraries"
   ]
  },
  {
   "cell_type": "markdown",
   "id": "db1f062f",
   "metadata": {},
   "source": [
    "Here are the libraries and modules that will be used in this notebook:"
   ]
  },
  {
   "cell_type": "code",
   "execution_count": 20,
   "id": "5747686c",
   "metadata": {},
   "outputs": [],
   "source": [
    "import rasterio\n",
    "import numpy as np\n",
    "import xarray as xr\n",
    "import pandas as pd\n",
    "import matplotlib.pyplot as plt\n",
    "import seaborn as sns\n",
    "\n",
    "from rasterio.enums import Resampling\n",
    "from rasterio.warp import reproject"
   ]
  },
  {
   "cell_type": "markdown",
   "id": "b9de67a1",
   "metadata": {},
   "source": [
    "### Importing the Files"
   ]
  },
  {
   "cell_type": "markdown",
   "id": "1c8bacbc",
   "metadata": {},
   "source": [
    "Loads three geospatial datasets: tree cover loss, land cover, and GDP"
   ]
  },
  {
   "cell_type": "code",
   "execution_count": 2,
   "id": "8d7a68ce",
   "metadata": {},
   "outputs": [],
   "source": [
    "tl_path = 'Goode_FinalClassification_19_05pcnt_prj.tif'\n",
    "lc_path = 'ESACCI-LC-L4-LCCS-Map-300m-P1Y-2015-v2.0.7.tif'\n",
    "gdp_path = 'GDP_PPP_1990_2015_5arcmin_v2.nc'"
   ]
  },
  {
   "cell_type": "markdown",
   "id": "83862168",
   "metadata": {},
   "source": [
    "**Load Tree Cover Loss by Dominant Driver and Load Land Cover**"
   ]
  },
  {
   "cell_type": "markdown",
   "id": "a393ab2c",
   "metadata": {},
   "source": [
    "Loads tree cover loss and land cover rasters and extracts their metadata for further processing."
   ]
  },
  {
   "cell_type": "code",
   "execution_count": null,
   "id": "ddff4562",
   "metadata": {},
   "outputs": [
    {
     "name": "stdout",
     "output_type": "stream",
     "text": [
      "Tree Cover Loss Raster: (1864, 3737), CRS: EPSG:4326\n"
     ]
    }
   ],
   "source": [
    "with rasterio.open(tl_path) as tree_src:\n",
    "    tree_data = tree_src.read(1)\n",
    "    tree_transform = tree_src.transform\n",
    "    tree_crs = tree_src.crs\n",
    "    tree_nodata = tree_src.nodata\n",
    "    tree_meta = {\n",
    "        'crs': tree_crs,\n",
    "        'transform': tree_transform\n",
    "    }\n",
    "    print(f\"Tree Cover Loss Raster: {tree_data.shape}, CRS: {tree_crs}\")\n",
    "\n",
    "with rasterio.open(lc_path) as lc_src:\n",
    "    lc_data = lc_src.read(1)\n",
    "    lc_transform = lc_src.transform\n",
    "    lc_crs = lc_src.crs\n",
    "    lc_nodata = lc_src.nodata\n",
    "    lc_meta = {\n",
    "        'crs': lc_crs,\n",
    "        'transform': lc_transform\n",
    "    }\n",
    "    print(f\"Land Cover Raster: {lc_data.shape}, CRS: {lc_crs}\")"
   ]
  },
  {
   "cell_type": "markdown",
   "id": "0c4af423",
   "metadata": {},
   "source": [
    "**Load GDP**"
   ]
  },
  {
   "cell_type": "markdown",
   "id": "eb455fcc",
   "metadata": {},
   "source": [
    "Loads and extracts 2015 GDP data from the NetCDF file using xarray."
   ]
  },
  {
   "cell_type": "code",
   "execution_count": 5,
   "id": "dfe21ed8",
   "metadata": {},
   "outputs": [
    {
     "name": "stdout",
     "output_type": "stream",
     "text": [
      "<xarray.Dataset> Size: 970MB\n",
      "Dimensions:    (longitude: 4320, latitude: 2160, time: 26)\n",
      "Coordinates:\n",
      "  * longitude  (longitude) float32 17kB -180.0 -179.9 -179.8 ... 179.9 180.0\n",
      "  * latitude   (latitude) float32 9kB 89.96 89.88 89.79 ... -89.79 -89.88 -89.96\n",
      "  * time       (time) float32 104B 1.99e+03 1.991e+03 ... 2.014e+03 2.015e+03\n",
      "Data variables:\n",
      "    GDP_PPP    (time, latitude, longitude) float32 970MB ...\n",
      "Attributes:\n",
      "    creation_date:     02-Aug-2017 14:30:34\n",
      "    resolution:        5 arc-min\n",
      "    projection:        WGS84\n",
      "    extent:            lat: 90�S - 90�N; lon: 180�E - 180�W\n",
      "    product:           Total Gross Domestic Production (GDP) (PPP) for years ...\n",
      "    citation:          When using the data, please refer to following publica...\n",
      "    more information:  For more information, see: TBA\n",
      "GDP 2015 shape: (2160, 4320)\n"
     ]
    }
   ],
   "source": [
    "ds = xr.open_dataset(gdp_path)\n",
    "print(ds)\n",
    "\n",
    "# Extract 2015 GDP layer\n",
    "gdp_2015 = ds['GDP_PPP'].sel(time=2015)\n",
    "print(f\"GDP 2015 shape: {gdp_2015.shape}\")"
   ]
  },
  {
   "cell_type": "markdown",
   "id": "3b30b6ba",
   "metadata": {},
   "source": [
    "# 4. Data Preprocessing and Cleaning\n",
    "\n",
    "Before conducting analysis, the geospatial datasets require preprocessing to ensure they are properly aligned and comparable. We reproject and resample the datasets. Additionally, we address missing or invalid data by filtering out NoData values and outliers."
   ]
  },
  {
   "cell_type": "markdown",
   "id": "fb43602e",
   "metadata": {},
   "source": [
    "**Checking the Resolution**"
   ]
  },
  {
   "cell_type": "code",
   "execution_count": 6,
   "id": "423e2a69",
   "metadata": {},
   "outputs": [
    {
     "name": "stdout",
     "output_type": "stream",
     "text": [
      "Tree Loss CRS: EPSG:4326, Res: 0.09634259943603331°\n",
      "Land Cover CRS: EPSG:4326, Res: 0.002777777777778°\n",
      "GDP CRS: EPSG:4326 (assumed), Res: ~5 arcmin (~10 km)\n"
     ]
    }
   ],
   "source": [
    "print(f\"Tree Loss CRS: {tree_crs}, Res: {tree_transform[0]}°\")\n",
    "print(f\"Land Cover CRS: {lc_crs}, Res: {lc_transform[0]}°\")\n",
    "print(f\"GDP CRS: EPSG:4326 (assumed), Res: ~5 arcmin (~10 km)\")"
   ]
  },
  {
   "cell_type": "markdown",
   "id": "201ebad6",
   "metadata": {},
   "source": [
    "**Resampling**"
   ]
  },
  {
   "cell_type": "markdown",
   "id": "d1d24674",
   "metadata": {},
   "source": [
    "Since the shape of the datasets are not alligned we will define the spatial transform and shape of the 2015 GDP grid for alignment with other datasets."
   ]
  },
  {
   "cell_type": "code",
   "execution_count": 7,
   "id": "3d42badf",
   "metadata": {},
   "outputs": [],
   "source": [
    "gdp_lon = gdp_2015['longitude'].values\n",
    "gdp_lat = gdp_2015['latitude'].values\n",
    "\n",
    "from rasterio.transform import from_origin\n",
    "gdp_transform = from_origin(\n",
    "    west=gdp_lon.min(),\n",
    "    north=gdp_lat.max(),\n",
    "    xsize=abs(gdp_lon[1] - gdp_lon[0]),\n",
    "    ysize=abs(gdp_lat[1] - gdp_lat[0])\n",
    ")\n",
    "\n",
    "gdp_shape = gdp_2015.shape"
   ]
  },
  {
   "cell_type": "markdown",
   "id": "57b0149c",
   "metadata": {},
   "source": [
    "Reprojects a source raster array to match a target shape, transform, and CRS."
   ]
  },
  {
   "cell_type": "code",
   "execution_count": 8,
   "id": "d202cf7f",
   "metadata": {},
   "outputs": [],
   "source": [
    "def reproject_match(src_array, src_meta, dst_shape, dst_transform, dst_crs=\"EPSG:4326\", method=Resampling.mode):\n",
    "    dst_array = np.empty(dst_shape, dtype=src_array.dtype)\n",
    "    reproject(\n",
    "        source=src_array,\n",
    "        destination=dst_array,\n",
    "        src_transform=src_meta['transform'],\n",
    "        src_crs=src_meta['crs'],\n",
    "        dst_transform=dst_transform,\n",
    "        dst_crs=dst_crs,\n",
    "        resampling=method\n",
    "    )\n",
    "    return dst_array"
   ]
  },
  {
   "cell_type": "code",
   "execution_count": 9,
   "id": "43323a5c",
   "metadata": {},
   "outputs": [],
   "source": [
    "tree_data_resampled = reproject_match(\n",
    "    src_array=tree_data,\n",
    "    src_meta=tree_meta,\n",
    "    dst_shape=gdp_shape,\n",
    "    dst_transform=gdp_transform,\n",
    "    method=Resampling.nearest\n",
    ")\n",
    "\n",
    "lc_data_resampled = reproject_match(\n",
    "    src_array=lc_data,\n",
    "    src_meta=lc_meta,\n",
    "    dst_shape=gdp_shape,\n",
    "    dst_transform=gdp_transform,\n",
    "    method=Resampling.mode\n",
    ")"
   ]
  },
  {
   "cell_type": "markdown",
   "id": "4b128e1e",
   "metadata": {},
   "source": [
    "**Mask Invalid Values and Create DataFrame**"
   ]
  },
  {
   "cell_type": "markdown",
   "id": "562a346e",
   "metadata": {},
   "source": [
    "Filters valid pixels and creates a DataFrame combining GDP, tree loss driver, and land cover values."
   ]
  },
  {
   "cell_type": "code",
   "execution_count": 10,
   "id": "b1b5dd50",
   "metadata": {},
   "outputs": [],
   "source": [
    "gdp_array = gdp_2015.values\n",
    "\n",
    "valid_mask = (\n",
    "    (gdp_array >= 0) &\n",
    "    (tree_data_resampled >= 0) & (tree_data_resampled <= 5) &\n",
    "    (lc_data_resampled >= 0)\n",
    ")\n",
    "\n",
    "df = pd.DataFrame({\n",
    "    \"GDP\": gdp_array[valid_mask],\n",
    "    \"TreeLossDriver\": tree_data_resampled[valid_mask].astype(int),\n",
    "    \"LandCover\": lc_data_resampled[valid_mask].astype(int)\n",
    "})"
   ]
  },
  {
   "cell_type": "code",
   "execution_count": 11,
   "id": "9d8b7241",
   "metadata": {},
   "outputs": [
    {
     "name": "stdout",
     "output_type": "stream",
     "text": [
      "   GDP  TreeLossDriver  LandCover\n",
      "0  0.0               0        200\n",
      "1  0.0               0        200\n",
      "2  0.0               0        200\n",
      "3  0.0               0        200\n",
      "4  0.0               0        200\n"
     ]
    }
   ],
   "source": [
    "print(df.head())"
   ]
  },
  {
   "cell_type": "markdown",
   "id": "fe8a91dc",
   "metadata": {},
   "source": [
    "**Creating a Dataframe**"
   ]
  },
  {
   "cell_type": "markdown",
   "id": "435c30cf",
   "metadata": {},
   "source": [
    "Creates 2D latitude and longitude grids matching the GDP data shape using meshgrid."
   ]
  },
  {
   "cell_type": "code",
   "execution_count": 12,
   "id": "d25a544f",
   "metadata": {},
   "outputs": [],
   "source": [
    "lon_vals = gdp_2015['longitude'].values\n",
    "lat_vals = gdp_2015['latitude'].values\n",
    "lon_grid, lat_grid = np.meshgrid(lon_vals, lat_vals)"
   ]
  },
  {
   "cell_type": "markdown",
   "id": "88c379e3",
   "metadata": {},
   "source": [
    "Creates a DataFrame with GDP, tree loss driver, land cover, and coordinates for valid pixels."
   ]
  },
  {
   "cell_type": "code",
   "execution_count": 13,
   "id": "4d12b040",
   "metadata": {},
   "outputs": [],
   "source": [
    "df = pd.DataFrame({\n",
    "    \"GDP\": gdp_array[valid_mask],\n",
    "    \"TreeLossDriver\": tree_data_resampled[valid_mask].astype(int),\n",
    "    \"LandCover\": lc_data_resampled[valid_mask].astype(int),\n",
    "    \"Lat\": lat_grid[valid_mask],\n",
    "    \"Lon\": lon_grid[valid_mask]\n",
    "})"
   ]
  },
  {
   "cell_type": "markdown",
   "id": "8ef7fa66",
   "metadata": {},
   "source": [
    "**Filtering**"
   ]
  },
  {
   "cell_type": "markdown",
   "id": "57493bb6",
   "metadata": {},
   "source": [
    "Since our target location is only Philippines and its 3 main islands groups, we will filter the data based on the coordinates and store them in their own dataframes for easier access."
   ]
  },
  {
   "cell_type": "code",
   "execution_count": 14,
   "id": "81c4a0b3",
   "metadata": {},
   "outputs": [],
   "source": [
    "philippines_df = df[\n",
    "    (df[\"Lat\"] >= 4.5) & (df[\"Lat\"] <= 21) &\n",
    "    (df[\"Lon\"] >= 116) & (df[\"Lon\"] <= 127)\n",
    "]"
   ]
  },
  {
   "cell_type": "code",
   "execution_count": 15,
   "id": "6c935870",
   "metadata": {},
   "outputs": [],
   "source": [
    "luzon_df = philippines_df[\n",
    "    (philippines_df[\"Lat\"] >= 12.0) & (philippines_df[\"Lat\"] <= 21.0) &\n",
    "    (philippines_df[\"Lon\"] >= 118.0) & (philippines_df[\"Lon\"] <= 124.0)\n",
    "]\n",
    "\n",
    "visayas_df = philippines_df[\n",
    "    (philippines_df[\"Lat\"] >= 9.5) & (philippines_df[\"Lat\"] < 12.0) &\n",
    "    (philippines_df[\"Lon\"] >= 122.0) & (philippines_df[\"Lon\"] <= 126.0)\n",
    "]\n",
    "\n",
    "mindanao_df = philippines_df[\n",
    "    (philippines_df[\"Lat\"] >= 4.5) & (philippines_df[\"Lat\"] < 9.5) &\n",
    "    (philippines_df[\"Lon\"] >= 124.0) & (philippines_df[\"Lon\"] <= 127.0)\n",
    "]"
   ]
  },
  {
   "cell_type": "markdown",
   "id": "0f00ab78",
   "metadata": {},
   "source": [
    "# 5. Exploratory Data Analysis"
   ]
  },
  {
   "cell_type": "markdown",
   "id": "db194ce2",
   "metadata": {},
   "source": [
    "In this section, we perform an exploratory analysis of the geospatial datasets,tree cover loss drivers, land cover, and Gross Domestic Product (GDP), to understand their spatial patterns and relationships across the Philippines. We focus on the three main island groups: Luzon, Visayas, and Mindanao, by filtering the data using approximate latitude and longitude boundaries.\n",
    "\n",
    "It is important to note that these geographic filters define rectangular bounding boxes which approximate the locations of the Philippines and its island groups. Therefore, the resulting analyses are estimates, as this method does not account for the exact shapes or coastlines of the islands."
   ]
  },
  {
   "cell_type": "markdown",
   "id": "ddcb3eb3",
   "metadata": {},
   "source": [
    "## 1. What is the distribution of Tree Cover Loss by Dominant Drivers in Philippines?"
   ]
  },
  {
   "cell_type": "code",
   "execution_count": 26,
   "id": "ab798f2d",
   "metadata": {},
   "outputs": [
    {
     "name": "stdout",
     "output_type": "stream",
     "text": [
      "Tree Cover Loss Drivers in Philippines:\n",
      "TreeLossDriver\n",
      "0    1256\n",
      "1    1153\n",
      "2    2178\n",
      "3     479\n",
      "5     195\n",
      "Name: count, dtype: int64 \n",
      "\n"
     ]
    },
    {
     "name": "stderr",
     "output_type": "stream",
     "text": [
      "c:\\Users\\Jacy Liu\\AppData\\Local\\Programs\\Python\\Python312\\Lib\\site-packages\\seaborn\\categorical.py:1273: FutureWarning: DataFrameGroupBy.apply operated on the grouping columns. This behavior is deprecated, and in a future version of pandas the grouping columns will be excluded from the operation. Either pass `include_groups=False` to exclude the groupings or explicitly select the grouping columns after groupby to silence this warning.\n",
      "  .apply(aggregator, agg_var)\n"
     ]
    },
    {
     "data": {
      "image/png": "[encoded data removed]",
      "text/plain": [
       "<Figure size 800x500 with 1 Axes>"
      ]
     },
     "metadata": {},
     "output_type": "display_data"
    }
   ],
   "source": [
    "# Function to plot bar charts for a region with fixed color\n",
    "def plot_driver_distribution(counts, region_name):\n",
    "    plt.figure(figsize=(8,5))\n",
    "    sns.barplot(x=counts.index.astype(str), y=counts.values, color='steelblue')\n",
    "    plt.title(f'Tree Cover Loss Drivers in {region_name}')\n",
    "    plt.xlabel('Driver Category')\n",
    "    plt.ylabel('Number of Pixels')\n",
    "    plt.xticks(rotation=0)\n",
    "    plt.show()\n",
    "\n",
    "# Calculate counts for Philippines and regions\n",
    "philippines_counts = philippines_df['TreeLossDriver'].value_counts().sort_index()\n",
    "luzon_counts = luzon_df['TreeLossDriver'].value_counts().sort_index()\n",
    "visayas_counts = visayas_df['TreeLossDriver'].value_counts().sort_index()\n",
    "mindanao_counts = mindanao_df['TreeLossDriver'].value_counts().sort_index()\n",
    "\n",
    "# Print counts\n",
    "print(\"Tree Cover Loss Drivers in Philippines:\")\n",
    "print(philippines_counts, \"\\n\")\n",
    "\n",
    "# Plot bar charts\n",
    "plot_driver_distribution(philippines_counts, 'Philippines')\n"
   ]
  },
  {
   "cell_type": "markdown",
   "id": "ae186fc5",
   "metadata": {},
   "source": [
    "## 2. What is the distribution of Tree Cover Loss by Dominant Drivers in the 3 main island groups?"
   ]
  },
  {
   "cell_type": "code",
   "execution_count": 27,
   "id": "d5967f0a",
   "metadata": {},
   "outputs": [
    {
     "name": "stdout",
     "output_type": "stream",
     "text": [
      "Tree Cover Loss Drivers in Luzon:\n",
      "TreeLossDriver\n",
      "0    549\n",
      "1    134\n",
      "2    892\n",
      "3    147\n",
      "5     98\n",
      "Name: count, dtype: int64 \n",
      "\n",
      "Tree Cover Loss Drivers in Visayas:\n",
      "TreeLossDriver\n",
      "0    247\n",
      "1     20\n",
      "2    361\n",
      "3    104\n",
      "5     42\n",
      "Name: count, dtype: int64 \n",
      "\n",
      "Tree Cover Loss Drivers in Mindanao:\n",
      "TreeLossDriver\n",
      "0    111\n",
      "1    197\n",
      "2    476\n",
      "3    168\n",
      "5     38\n",
      "Name: count, dtype: int64 \n",
      "\n"
     ]
    }
   ],
   "source": [
    "# Print counts\n",
    "print(\"Tree Cover Loss Drivers in Luzon:\")\n",
    "print(luzon_counts, \"\\n\")\n",
    "\n",
    "print(\"Tree Cover Loss Drivers in Visayas:\")\n",
    "print(visayas_counts, \"\\n\")\n",
    "\n",
    "print(\"Tree Cover Loss Drivers in Mindanao:\")\n",
    "print(mindanao_counts, \"\\n\")"
   ]
  },
  {
   "cell_type": "code",
   "execution_count": 28,
   "id": "cdc964a4",
   "metadata": {},
   "outputs": [
    {
     "name": "stderr",
     "output_type": "stream",
     "text": [
      "c:\\Users\\Jacy Liu\\AppData\\Local\\Programs\\Python\\Python312\\Lib\\site-packages\\seaborn\\categorical.py:1273: FutureWarning: DataFrameGroupBy.apply operated on the grouping columns. This behavior is deprecated, and in a future version of pandas the grouping columns will be excluded from the operation. Either pass `include_groups=False` to exclude the groupings or explicitly select the grouping columns after groupby to silence this warning.\n",
      "  .apply(aggregator, agg_var)\n"
     ]
    },
    {
     "data": {
      "image/png": "[encoded data removed]",
      "text/plain": [
       "<Figure size 800x500 with 1 Axes>"
      ]
     },
     "metadata": {},
     "output_type": "display_data"
    },
    {
     "name": "stderr",
     "output_type": "stream",
     "text": [
      "c:\\Users\\Jacy Liu\\AppData\\Local\\Programs\\Python\\Python312\\Lib\\site-packages\\seaborn\\categorical.py:1273: FutureWarning: DataFrameGroupBy.apply operated on the grouping columns. This behavior is deprecated, and in a future version of pandas the grouping columns will be excluded from the operation. Either pass `include_groups=False` to exclude the groupings or explicitly select the grouping columns after groupby to silence this warning.\n",
      "  .apply(aggregator, agg_var)\n"
     ]
    },
    {
     "data": {
      "image/png": "[encoded data removed]",
      "text/plain": [
       "<Figure size 800x500 with 1 Axes>"
      ]
     },
     "metadata": {},
     "output_type": "display_data"
    },
    {
     "name": "stderr",
     "output_type": "stream",
     "text": [
      "c:\\Users\\Jacy Liu\\AppData\\Local\\Programs\\Python\\Python312\\Lib\\site-packages\\seaborn\\categorical.py:1273: FutureWarning: DataFrameGroupBy.apply operated on the grouping columns. This behavior is deprecated, and in a future version of pandas the grouping columns will be excluded from the operation. Either pass `include_groups=False` to exclude the groupings or explicitly select the grouping columns after groupby to silence this warning.\n",
      "  .apply(aggregator, agg_var)\n"
     ]
    },
    {
     "data": {
      "image/png": "[encoded data removed]",
      "text/plain": [
       "<Figure size 800x500 with 1 Axes>"
      ]
     },
     "metadata": {},
     "output_type": "display_data"
    }
   ],
   "source": [
    "# Plot bar charts\n",
    "plot_driver_distribution(luzon_counts, 'Luzon')\n",
    "plot_driver_distribution(visayas_counts, 'Visayas')\n",
    "plot_driver_distribution(mindanao_counts, 'Mindanao')"
   ]
  },
  {
   "cell_type": "markdown",
   "id": "3d034193",
   "metadata": {},
   "source": [
    "## 3. What is the distribution of regions (PUFREG)?"
   ]
  },
  {
   "cell_type": "code",
   "execution_count": null,
   "id": "b8d89fad",
   "metadata": {},
   "outputs": [],
   "source": []
  },
  {
   "cell_type": "markdown",
   "id": "447e8b48",
   "metadata": {},
   "source": [
    "## 4. What is the distribution of provinces (PUFPRV)?"
   ]
  },
  {
   "cell_type": "code",
   "execution_count": null,
   "id": "529595bd",
   "metadata": {},
   "outputs": [],
   "source": []
  },
  {
   "cell_type": "markdown",
   "id": "6d8dd6aa",
   "metadata": {},
   "source": [
    "## 5. What is the ratio of males vs. females (PUFC04_SEX)?"
   ]
  },
  {
   "cell_type": "code",
   "execution_count": null,
   "id": "15f2ae21",
   "metadata": {},
   "outputs": [],
   "source": []
  },
  {
   "cell_type": "markdown",
   "id": "59fcaf86",
   "metadata": {},
   "source": [
    "## 6. What are the most common education levels (PUFC07_GRADE)?"
   ]
  },
  {
   "cell_type": "code",
   "execution_count": null,
   "id": "7f7c8c77",
   "metadata": {},
   "outputs": [],
   "source": []
  },
  {
   "cell_type": "markdown",
   "id": "f02c44bd",
   "metadata": {},
   "source": [
    "## 7. What are the most common occupations (PUFC14_PROCC)?"
   ]
  },
  {
   "cell_type": "code",
   "execution_count": null,
   "id": "6cbe9555",
   "metadata": {},
   "outputs": [],
   "source": []
  },
  {
   "cell_type": "markdown",
   "id": "0c8633d4",
   "metadata": {},
   "source": [
    "## 8. What are the most common industries (PUFC16_PKB)?"
   ]
  },
  {
   "cell_type": "code",
   "execution_count": null,
   "id": "27192533",
   "metadata": {},
   "outputs": [],
   "source": []
  },
  {
   "cell_type": "markdown",
   "id": "0f168d3d",
   "metadata": {},
   "source": [
    "## 9. How do daily working hours differ by occupation? (PUFC14_PROCC, PUFC18_PNWHRS)?"
   ]
  },
  {
   "cell_type": "code",
   "execution_count": null,
   "id": "491428e9",
   "metadata": {},
   "outputs": [],
   "source": []
  },
  {
   "cell_type": "markdown",
   "id": "76aacf69",
   "metadata": {},
   "source": [
    "## 10. What are the top 5 occupations (PUFC07_GRADE) per nature of employment (PUFC14_PROCC)?"
   ]
  },
  {
   "cell_type": "code",
   "execution_count": null,
   "id": "da7c2b4a",
   "metadata": {},
   "outputs": [],
   "source": []
  },
  {
   "cell_type": "markdown",
   "id": "919ce210",
   "metadata": {},
   "source": [
    "# Insights and Conclusion"
   ]
  },
  {
   "cell_type": "markdown",
   "id": "e50b355b",
   "metadata": {},
   "source": []
  },
  {
   "cell_type": "markdown",
   "id": "b09e1116",
   "metadata": {},
   "source": [
    "# References"
   ]
  },
  {
   "cell_type": "markdown",
   "id": "a23191f1",
   "metadata": {},
   "source": []
  }
 ],
 "metadata": {
  "kernelspec": {
   "display_name": "Python 3",
   "language": "python",
   "name": "python3"
  },
  "language_info": {
   "codemirror_mode": {
    "name": "ipython",
    "version": 3
   },
   "file_extension": ".py",
   "mimetype": "text/x-python",
   "name": "python",
   "nbconvert_exporter": "python",
   "pygments_lexer": "ipython3",
   "version": "3.12.6"
  }
 },
 "nbformat": 4,
 "nbformat_minor": 5
}
