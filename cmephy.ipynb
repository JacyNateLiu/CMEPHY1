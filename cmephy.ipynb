{
 "cells": [
  {
   "cell_type": "markdown",
   "id": "50f9fb06",
   "metadata": {},
   "source": [
    "# 1. Introduction"
   ]
  },
  {
   "cell_type": "markdown",
   "id": "88bd3eda",
   "metadata": {},
   "source": []
  },
  {
   "cell_type": "markdown",
   "id": "bbb7ed87",
   "metadata": {},
   "source": [
    "# 2. Description of the Dataset"
   ]
  },
  {
   "cell_type": "markdown",
   "id": "3fc0e277",
   "metadata": {},
   "source": []
  },
  {
   "cell_type": "markdown",
   "id": "0f1e24c1",
   "metadata": {},
   "source": [
    "# 3. Python Libraries and Modules"
   ]
  },
  {
   "cell_type": "markdown",
   "id": "db1f062f",
   "metadata": {},
   "source": []
  },
  {
   "cell_type": "markdown",
   "id": "55f8d556",
   "metadata": {},
   "source": [
    "# 3. Data Precessing and Cleaning"
   ]
  },
  {
   "cell_type": "markdown",
   "id": "a8f0c4e4",
   "metadata": {},
   "source": [
    "## Data Types of Each Columns"
   ]
  },
  {
   "cell_type": "markdown",
   "id": "62325b2e",
   "metadata": {},
   "source": []
  },
  {
   "cell_type": "markdown",
   "id": "0ccdb4bd",
   "metadata": {},
   "source": [
    "## Null Columns"
   ]
  },
  {
   "cell_type": "markdown",
   "id": "a8d06070",
   "metadata": {},
   "source": []
  },
  {
   "cell_type": "markdown",
   "id": "2e5fa5f7",
   "metadata": {},
   "source": [
    "## Duplicate Entries"
   ]
  },
  {
   "cell_type": "markdown",
   "id": "283fe3d5",
   "metadata": {},
   "source": []
  },
  {
   "cell_type": "markdown",
   "id": "5cf3d75b",
   "metadata": {},
   "source": [
    "# 5. Exploratory Data Analysis"
   ]
  },
  {
   "cell_type": "markdown",
   "id": "ddcb3eb3",
   "metadata": {},
   "source": [
    "## 1. What is the distribution of household sizes (PUFHHSIZE)?"
   ]
  },
  {
   "cell_type": "markdown",
   "id": "cc1b0d45",
   "metadata": {},
   "source": []
  },
  {
   "cell_type": "code",
   "execution_count": null,
   "id": "265336ac",
   "metadata": {
    "vscode": {
     "languageId": "plaintext"
    }
   },
   "outputs": [],
   "source": [
    "## 2. What is the distribution of age (PUFC05_AGE)?"
   ]
  },
  {
   "cell_type": "code",
   "execution_count": null,
   "id": "ab798f2d",
   "metadata": {
    "vscode": {
     "languageId": "plaintext"
    }
   },
   "outputs": [],
   "source": []
  },
  {
   "cell_type": "markdown",
   "id": "3d034193",
   "metadata": {},
   "source": [
    "## 3. What is the distribution of regions (PUFREG)?"
   ]
  },
  {
   "cell_type": "markdown",
   "id": "d0973bf6",
   "metadata": {},
   "source": []
  },
  {
   "cell_type": "markdown",
   "id": "447e8b48",
   "metadata": {},
   "source": [
    "## 4. What is the distribution of provinces (PUFPRV)?"
   ]
  },
  {
   "cell_type": "markdown",
   "id": "353a86b0",
   "metadata": {},
   "source": []
  },
  {
   "cell_type": "markdown",
   "id": "6d8dd6aa",
   "metadata": {},
   "source": [
    "## 5. What is the ratio of males vs. females (PUFC04_SEX)?"
   ]
  },
  {
   "cell_type": "markdown",
   "id": "a2b7cace",
   "metadata": {},
   "source": []
  },
  {
   "cell_type": "markdown",
   "id": "59fcaf86",
   "metadata": {},
   "source": [
    "## 6. What are the most common education levels (PUFC07_GRADE)?"
   ]
  },
  {
   "cell_type": "markdown",
   "id": "11e3c82a",
   "metadata": {},
   "source": []
  },
  {
   "cell_type": "markdown",
   "id": "f02c44bd",
   "metadata": {},
   "source": [
    "## 7. What are the most common occupations (PUFC14_PROCC)?"
   ]
  },
  {
   "cell_type": "markdown",
   "id": "8a8f91f0",
   "metadata": {},
   "source": []
  },
  {
   "cell_type": "markdown",
   "id": "0c8633d4",
   "metadata": {},
   "source": [
    "## 8. What are the most common industries (PUFC16_PKB)?"
   ]
  },
  {
   "cell_type": "markdown",
   "id": "8aa9401f",
   "metadata": {},
   "source": []
  },
  {
   "cell_type": "markdown",
   "id": "0f168d3d",
   "metadata": {},
   "source": [
    "## 9. How do daily working hours differ by occupation? (PUFC14_PROCC, PUFC18_PNWHRS)?"
   ]
  },
  {
   "cell_type": "markdown",
   "id": "6a8dd641",
   "metadata": {},
   "source": []
  },
  {
   "cell_type": "code",
   "execution_count": null,
   "id": "da7c2b4a",
   "metadata": {
    "vscode": {
     "languageId": "plaintext"
    }
   },
   "outputs": [],
   "source": [
    "## 10. What are the top 5 occupations (PUFC07_GRADE) per nature of employment (PUFC14_PROCC)?"
   ]
  },
  {
   "cell_type": "markdown",
   "id": "db13e8ce",
   "metadata": {},
   "source": []
  },
  {
   "cell_type": "markdown",
   "id": "9cd80b65",
   "metadata": {},
   "source": [
    "# Resampling"
   ]
  },
  {
   "cell_type": "markdown",
   "id": "5907d17d",
   "metadata": {},
   "source": []
  },
  {
   "cell_type": "markdown",
   "id": "987e664d",
   "metadata": {},
   "source": [
    "# Scaling"
   ]
  },
  {
   "cell_type": "markdown",
   "id": "4b28b3f7",
   "metadata": {},
   "source": []
  },
  {
   "cell_type": "markdown",
   "id": "c2afef5e",
   "metadata": {},
   "source": [
    "# Splitting the Dataset into training, testing, and validation"
   ]
  },
  {
   "cell_type": "markdown",
   "id": "b478ea3f",
   "metadata": {},
   "source": [
    "# Machine Learning"
   ]
  },
  {
   "cell_type": "markdown",
   "id": "50df974a",
   "metadata": {},
   "source": []
  },
  {
   "cell_type": "markdown",
   "id": "273eb216",
   "metadata": {},
   "source": [
    "## Initial Model Training"
   ]
  },
  {
   "cell_type": "markdown",
   "id": "ba8c4a0d",
   "metadata": {},
   "source": []
  },
  {
   "cell_type": "markdown",
   "id": "40c200c9",
   "metadata": {},
   "source": [
    "## Error Analysis"
   ]
  },
  {
   "cell_type": "markdown",
   "id": "839a283a",
   "metadata": {},
   "source": []
  },
  {
   "cell_type": "markdown",
   "id": "3f1dcceb",
   "metadata": {},
   "source": [
    "## Improving Model Performance"
   ]
  },
  {
   "cell_type": "markdown",
   "id": "cd0d9a07",
   "metadata": {},
   "source": []
  },
  {
   "cell_type": "markdown",
   "id": "919ce210",
   "metadata": {},
   "source": [
    "# Insights and Conclusion"
   ]
  },
  {
   "cell_type": "markdown",
   "id": "e50b355b",
   "metadata": {},
   "source": []
  },
  {
   "cell_type": "markdown",
   "id": "b09e1116",
   "metadata": {},
   "source": [
    "# References"
   ]
  },
  {
   "cell_type": "markdown",
   "id": "a23191f1",
   "metadata": {},
   "source": []
  }
 ],
 "metadata": {
  "language_info": {
   "name": "python"
  }
 },
 "nbformat": 4,
 "nbformat_minor": 5
}
