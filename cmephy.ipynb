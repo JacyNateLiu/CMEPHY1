{
 "cells": [
  {
   "cell_type": "markdown",
   "id": "f79417ae",
   "metadata": {},
   "source": [
    "# Geospatial Machine Learning: Classifying Land Use Based on Environmental and Economic Features"
   ]
  },
  {
   "cell_type": "markdown",
   "id": "50f9fb06",
   "metadata": {},
   "source": [
    "# 1. Introduction"
   ]
  },
  {
   "cell_type": "markdown",
   "id": "88bd3eda",
   "metadata": {},
   "source": [
    "In this project, the dataset we decided to analyze is the **Geospatial Environmental and Socioeconomic Data**. We believe we can extract valuable insights by developing a **classification model** that can **predict the primary land cover type** of a geographic area based on spatial indicators such as population density, GDP, temperature, and proximity to roads and cities. To accomplish this, we will use **machine learning algorithms** to investigate whether there are **patterns linking socioeconomic and environmental conditions** to different types of **land use**.\n"
   ]
  },
  {
   "cell_type": "markdown",
   "id": "bbb7ed87",
   "metadata": {},
   "source": [
    "# 2. Description of the Dataset"
   ]
  },
  {
   "cell_type": "markdown",
   "id": "3fc0e277",
   "metadata": {},
   "source": [
    "## Geospatial Environmental and Socioeconomic Data  \n",
    "**by Cathetorres (2020) – Kaggle**\n",
    "\n",
    "This dataset is a comprehensive compilation of global **geospatial vector and raster data**, integrating diverse environmental and socioeconomic indicators. Collected from multiple authoritative sources, it provides detailed spatial layers useful for analysis in sustainability, development, and environmental monitoring.\n",
    "\n",
    "The dataset is structured into **12 thematic folders**, each covering a distinct data category:\n",
    "\n",
    "1. **Cities and Towns** – Geospatial data for urban areas in point and polygon formats.  \n",
    "2. **Roads and Railroads** – Global transportation infrastructure networks.  \n",
    "3. **Airports and Ports** – Locations of major air and sea transportation hubs.  \n",
    "4. **Power Plants** – Spatial distribution of energy production facilities.  \n",
    "5. **Gridded Population (2015)** – High-resolution (250 m) global population estimates.  \n",
    "6. **Gridded GDP and HDI (1990–2015)** – Socioeconomic data showing economic productivity and development trends over time.  \n",
    "7. **Land Cover (2015)** – Classification of global land cover types based on satellite data.  \n",
    "8. **Tree Cover Loss by Dominant Driver** – Causes of deforestation disaggregated by primary driving factors.  \n",
    "9. **Carbon Accumulation Potential** – Estimates of carbon sequestration from natural forest regrowth in forests and savannas.  \n",
    "10. **Solar Energy Potential** – Spatial potential for solar power generation across the globe.  \n",
    "11. **Air Temperature** – Global surface temperature data for climate studies.  \n",
    "12. **Global Cattle Distribution (2010)** – Spatial density of cattle populations with 5-arcminute resolution."
   ]
  },
  {
   "cell_type": "markdown",
   "id": "06e8fe5c",
   "metadata": {},
   "source": [
    "## Dataset Folders Used\n",
    "\n",
    "For this project, we utilize selected folders from the **Geospatial Environmental and Socioeconomic Data** collection to build a classification model that predicts the **primary land cover type** of a geographic area based on environmental and socioeconomic indicators. Below is a breakdown of the relevant folders used in the analysis:\n",
    "\n",
    "### Target Variable\n",
    "\n",
    "- **7. Gridded Land Cover 2015**  \n",
    "  This dataset provides the land cover classification for each 250 m grid cell. It serves as the **label** for our machine learning model, representing categories such as forest, cropland, urban area, grassland, water, etc.\n",
    "\n",
    "### Input Features\n",
    "\n",
    "#### Human and Economic Indicators\n",
    "- **5. Gridded Population 2015 (250 m)**  \n",
    "  Provides population density data per grid cell, which may correlate with urban or peri-urban land use.\n",
    "\n",
    "- **6. Gridded GDP and HDI (1990–2015)**  \n",
    "  Economic indicators used to understand development intensity, which may affect land use patterns.\n",
    "\n",
    "#### Environmental Variables\n",
    "\n",
    "- **11. Air Temperature**  \n",
    "  Climatic data used to correlate temperature patterns with land cover types like tundra, desert, or tropical forest.\n",
    "\n",
    "- **12. Global Cattle Distribution (2010)**  \n",
    "  Used as a proxy for agricultural activity, particularly pastoral land use.\n"
   ]
  },
  {
   "cell_type": "markdown",
   "id": "0f1e24c1",
   "metadata": {},
   "source": [
    "# 3. Importing Files and Python Libraries"
   ]
  },
  {
   "cell_type": "markdown",
   "id": "db1f062f",
   "metadata": {},
   "source": [
    "Here are the libraries and modules that will be used in this notebook:"
   ]
  },
  {
   "cell_type": "code",
   "execution_count": 1,
   "id": "5747686c",
   "metadata": {},
   "outputs": [],
   "source": [
    "import rasterio\n",
    "import numpy as np\n",
    "import pandas as pd\n",
    "import xarray as xr\n",
    "\n",
    "from rasterio.enums import Resampling\n",
    "from skimage.transform import resize\n",
    "from rasterio.transform import rowcol\n",
    "\n",
    "from sklearn.model_selection import train_test_split\n",
    "from sklearn.ensemble import RandomForestClassifier\n",
    "from sklearn.metrics import classification_report"
   ]
  },
  {
   "cell_type": "markdown",
   "id": "b9de67a1",
   "metadata": {},
   "source": [
    "### Importing the Files"
   ]
  },
  {
   "cell_type": "code",
   "execution_count": 2,
   "id": "8d7a68ce",
   "metadata": {},
   "outputs": [],
   "source": [
    "raster_path = 'Goode_FinalClassification_19_05pcnt_prj.tif'"
   ]
  },
  {
   "cell_type": "markdown",
   "id": "3b30b6ba",
   "metadata": {},
   "source": [
    "# 4. Data Precessing and Cleaning"
   ]
  },
  {
   "cell_type": "code",
   "execution_count": 8,
   "id": "53a815fa",
   "metadata": {},
   "outputs": [],
   "source": [
    "# Dictionary of provinces with approximate central coordinates\n",
    "philippine_provinces = {\n",
    "    \"Manila (NCR)\": (14.6, 120.98),\n",
    "    \"Benguet\": (16.42, 120.60),\n",
    "    \"Isabela\": (17.07, 121.85),\n",
    "    \"Palawan\": (9.83, 118.73),\n",
    "    \"Cebu\": (10.32, 123.90),\n",
    "    \"Leyte\": (10.85, 124.95),\n",
    "    \"Davao del Sur\": (6.80, 125.45),\n",
    "    \"Zamboanga del Sur\": (7.83, 123.45),\n",
    "    \"Agusan del Norte\": (9.00, 125.60),\n",
    "    \"Sulu\": (6.02, 121.00)\n",
    "}\n"
   ]
  },
  {
   "cell_type": "code",
   "execution_count": 3,
   "id": "b98846f1",
   "metadata": {},
   "outputs": [],
   "source": [
    "def get_values_in_bounds(data, transform, lat_min, lat_max, lon_min, lon_max):\n",
    "    values = []\n",
    "    for lat in np.arange(lat_min, lat_max, 0.1):  # step = resolution\n",
    "        for lon in np.arange(lon_min, lon_max, 0.1):\n",
    "            row, col = rasterio.transform.rowcol(transform, lon, lat)\n",
    "            if 0 <= row < data.shape[0] and 0 <= col < data.shape[1]:\n",
    "                val = data[row, col]\n",
    "                values.append(val)\n",
    "    return np.array(values)"
   ]
  },
  {
   "cell_type": "markdown",
   "id": "400ced06",
   "metadata": {},
   "source": [
    "**Loading .tif raster layers**"
   ]
  },
  {
   "cell_type": "code",
   "execution_count": null,
   "id": "60bb53d5",
   "metadata": {},
   "outputs": [
    {
     "name": "stdout",
     "output_type": "stream",
     "text": [
      "\n",
      "Tree Cover Loss Raster Values by Province (2001–2019):\n",
      "\n",
      "Manila (NCR)             : 0.0\n",
      "Benguet                  : 5.0\n",
      "Isabela                  : 3.0\n",
      "Palawan                  : 2.0\n",
      "Cebu                     : 0.0\n",
      "Leyte                    : 3.0\n",
      "Davao del Sur            : 0.0\n",
      "Zamboanga del Sur        : 5.0\n",
      "Agusan del Norte         : 5.0\n",
      "Sulu                     : 3.0\n"
     ]
    }
   ],
   "source": [
    "# Open and process raster\n",
    "with rasterio.open(raster_path) as src:\n",
    "    data = src.read(1)\n",
    "    transform = src.transform\n",
    "    nodata = src.nodata\n",
    "\n",
    "    print(\"\\nTree Cover Loss Raster Values by Province (2001–2019):\\n\")\n",
    "    for province, (lat, lon) in philippine_provinces.items():\n",
    "        try:\n",
    "            row, col = rowcol(transform, lon, lat)\n",
    "            value = data[row, col]\n",
    "            print(f\"{province:<25}: {value}\")\n",
    "        except IndexError:\n",
    "            print(f\"{province:<25}: Coordinates outside raster bounds\")"
   ]
  },
  {
   "cell_type": "code",
   "execution_count": 6,
   "id": "775dc6a2",
   "metadata": {},
   "outputs": [
    {
     "name": "stdout",
     "output_type": "stream",
     "text": [
      "\n",
      "Tree Cover Loss Raster Value Counts by Island Group (2001–2019):\n",
      "\n",
      "Luzon (5400 total pixels):\n",
      "  Value -1.7e+308: 3961 pixels\n",
      "  Value 0.0: 503 pixels\n",
      "  Value 1.0: 105 pixels\n",
      "  Value 2.0: 639 pixels\n",
      "  Value 3.0: 122 pixels\n",
      "  Value 5.0: 70 pixels\n",
      "\n",
      "Visayas (1000 total pixels):\n",
      "  Value -1.7e+308: 372 pixels\n",
      "  Value 0.0: 241 pixels\n",
      "  Value 1.0: 13 pixels\n",
      "  Value 2.0: 270 pixels\n",
      "  Value 3.0: 79 pixels\n",
      "  Value 5.0: 25 pixels\n",
      "\n",
      "Mindanao (1500 total pixels):\n",
      "  Value -1.7e+308: 771 pixels\n",
      "  Value 0.0: 105 pixels\n",
      "  Value 1.0: 130 pixels\n",
      "  Value 2.0: 337 pixels\n",
      "  Value 3.0: 126 pixels\n",
      "  Value 5.0: 31 pixels\n",
      "\n"
     ]
    }
   ],
   "source": [
    "# Open raster\n",
    "with rasterio.open(raster_path) as src:\n",
    "    data = src.read(1)\n",
    "    transform = src.transform\n",
    "    nodata = src.nodata\n",
    "\n",
    "    print(\"\\nTree Cover Loss Raster Value Counts by Island Group (2001–2019):\\n\")\n",
    "\n",
    "    island_bounds = {\n",
    "    \"Luzon\":    (12.0, 21.0, 118.0, 124.0),\n",
    "    \"Visayas\":  (9.5, 12.0, 122.0, 126.0),\n",
    "    \"Mindanao\": (4.5, 9.5, 124.0, 127.0)\n",
    "}\n",
    "\n",
    "    for region, (lat_min, lat_max, lon_min, lon_max) in island_bounds.items():\n",
    "        vals = get_values_in_bounds(data, transform, lat_min, lat_max, lon_min, lon_max)\n",
    "\n",
    "        # Include everything: 0, 1–5, and potentially nodata\n",
    "        unique, counts = np.unique(vals, return_counts=True)\n",
    "\n",
    "        print(f\"{region} ({len(vals)} total pixels):\")\n",
    "        for u, c in zip(unique, counts):\n",
    "            print(f\"  Value {u}: {c} pixels\")\n",
    "        print()\n"
   ]
  },
  {
   "cell_type": "markdown",
   "id": "c803a505",
   "metadata": {},
   "source": [
    "**Loading .nc**"
   ]
  },
  {
   "cell_type": "code",
   "execution_count": null,
   "id": "86d1d04b",
   "metadata": {},
   "outputs": [
    {
     "name": "stdout",
     "output_type": "stream",
     "text": [
      "[[-1.7e+308 -1.7e+308 -1.7e+308 -1.7e+308 -1.7e+308]\n",
      " [-1.7e+308 -1.7e+308 -1.7e+308 -1.7e+308 -1.7e+308]\n",
      " [-1.7e+308 -1.7e+308 -1.7e+308 -1.7e+308 -1.7e+308]\n",
      " [-1.7e+308 -1.7e+308 -1.7e+308 -1.7e+308 -1.7e+308]\n",
      " [-1.7e+308 -1.7e+308 -1.7e+308 -1.7e+308 -1.7e+308]]\n",
      "Unique values in raster: [-1.7e+308  0.0e+000  1.0e+000  2.0e+000  3.0e+000  4.0e+000  5.0e+000]\n"
     ]
    }
   ],
   "source": [
    "print(data[0:5, 0:5])  # Print a 5×5 subset\n",
    "import numpy as np\n",
    "\n",
    "\n"
   ]
  },
  {
   "cell_type": "markdown",
   "id": "c26bbdda",
   "metadata": {},
   "source": [
    "**Array Shapes**"
   ]
  },
  {
   "cell_type": "markdown",
   "id": "91c35ddf",
   "metadata": {},
   "source": [
    "As seen, each has different shapes."
   ]
  },
  {
   "cell_type": "code",
   "execution_count": 16,
   "id": "9e318be2",
   "metadata": {},
   "outputs": [
    {
     "name": "stdout",
     "output_type": "stream",
     "text": [
      "Unique values in raster: [-1.7e+308  0.0e+000  1.0e+000  2.0e+000  3.0e+000  4.0e+000  5.0e+000]\n"
     ]
    }
   ],
   "source": [
    "unique_vals = np.unique(data)\n",
    "print(\"Unique values in raster:\", unique_vals)"
   ]
  },
  {
   "cell_type": "markdown",
   "id": "9df42776",
   "metadata": {},
   "source": [
    "**Resampling**"
   ]
  },
  {
   "cell_type": "code",
   "execution_count": null,
   "id": "c86e7d52",
   "metadata": {},
   "outputs": [],
   "source": []
  },
  {
   "cell_type": "markdown",
   "id": "8a6f25f2",
   "metadata": {},
   "source": [
    "New Array Shape"
   ]
  },
  {
   "cell_type": "code",
   "execution_count": null,
   "id": "7fd9c7a9",
   "metadata": {},
   "outputs": [],
   "source": []
  },
  {
   "cell_type": "markdown",
   "id": "5cf3d75b",
   "metadata": {},
   "source": [
    "# 5. Exploratory Data Analysis"
   ]
  },
  {
   "cell_type": "markdown",
   "id": "ddcb3eb3",
   "metadata": {},
   "source": [
    "## 1. What is the distribution of household sizes (PUFHHSIZE)?"
   ]
  },
  {
   "cell_type": "markdown",
   "id": "cc1b0d45",
   "metadata": {},
   "source": []
  },
  {
   "cell_type": "code",
   "execution_count": null,
   "id": "265336ac",
   "metadata": {},
   "outputs": [],
   "source": [
    "## 2. What is the distribution of age (PUFC05_AGE)?"
   ]
  },
  {
   "cell_type": "code",
   "execution_count": null,
   "id": "ab798f2d",
   "metadata": {},
   "outputs": [],
   "source": []
  },
  {
   "cell_type": "markdown",
   "id": "3d034193",
   "metadata": {},
   "source": [
    "## 3. What is the distribution of regions (PUFREG)?"
   ]
  },
  {
   "cell_type": "markdown",
   "id": "d0973bf6",
   "metadata": {},
   "source": []
  },
  {
   "cell_type": "markdown",
   "id": "447e8b48",
   "metadata": {},
   "source": [
    "## 4. What is the distribution of provinces (PUFPRV)?"
   ]
  },
  {
   "cell_type": "markdown",
   "id": "353a86b0",
   "metadata": {},
   "source": []
  },
  {
   "cell_type": "markdown",
   "id": "6d8dd6aa",
   "metadata": {},
   "source": [
    "## 5. What is the ratio of males vs. females (PUFC04_SEX)?"
   ]
  },
  {
   "cell_type": "markdown",
   "id": "a2b7cace",
   "metadata": {},
   "source": []
  },
  {
   "cell_type": "markdown",
   "id": "59fcaf86",
   "metadata": {},
   "source": [
    "## 6. What are the most common education levels (PUFC07_GRADE)?"
   ]
  },
  {
   "cell_type": "markdown",
   "id": "11e3c82a",
   "metadata": {},
   "source": []
  },
  {
   "cell_type": "markdown",
   "id": "f02c44bd",
   "metadata": {},
   "source": [
    "## 7. What are the most common occupations (PUFC14_PROCC)?"
   ]
  },
  {
   "cell_type": "markdown",
   "id": "8a8f91f0",
   "metadata": {},
   "source": []
  },
  {
   "cell_type": "markdown",
   "id": "0c8633d4",
   "metadata": {},
   "source": [
    "## 8. What are the most common industries (PUFC16_PKB)?"
   ]
  },
  {
   "cell_type": "markdown",
   "id": "8aa9401f",
   "metadata": {},
   "source": []
  },
  {
   "cell_type": "markdown",
   "id": "0f168d3d",
   "metadata": {},
   "source": [
    "## 9. How do daily working hours differ by occupation? (PUFC14_PROCC, PUFC18_PNWHRS)?"
   ]
  },
  {
   "cell_type": "markdown",
   "id": "6a8dd641",
   "metadata": {},
   "source": []
  },
  {
   "cell_type": "code",
   "execution_count": null,
   "id": "da7c2b4a",
   "metadata": {},
   "outputs": [],
   "source": [
    "## 10. What are the top 5 occupations (PUFC07_GRADE) per nature of employment (PUFC14_PROCC)?"
   ]
  },
  {
   "cell_type": "markdown",
   "id": "db13e8ce",
   "metadata": {},
   "source": []
  },
  {
   "cell_type": "markdown",
   "id": "9cd80b65",
   "metadata": {},
   "source": [
    "# Resampling"
   ]
  },
  {
   "cell_type": "markdown",
   "id": "5907d17d",
   "metadata": {},
   "source": []
  },
  {
   "cell_type": "markdown",
   "id": "987e664d",
   "metadata": {},
   "source": [
    "# Scaling"
   ]
  },
  {
   "cell_type": "markdown",
   "id": "4b28b3f7",
   "metadata": {},
   "source": []
  },
  {
   "cell_type": "markdown",
   "id": "c2afef5e",
   "metadata": {},
   "source": [
    "# Splitting the Dataset into training, testing, and validation"
   ]
  },
  {
   "cell_type": "markdown",
   "id": "b478ea3f",
   "metadata": {},
   "source": [
    "# Machine Learning"
   ]
  },
  {
   "cell_type": "markdown",
   "id": "50df974a",
   "metadata": {},
   "source": []
  },
  {
   "cell_type": "markdown",
   "id": "273eb216",
   "metadata": {},
   "source": [
    "## Initial Model Training"
   ]
  },
  {
   "cell_type": "markdown",
   "id": "ba8c4a0d",
   "metadata": {},
   "source": []
  },
  {
   "cell_type": "markdown",
   "id": "40c200c9",
   "metadata": {},
   "source": [
    "## Error Analysis"
   ]
  },
  {
   "cell_type": "markdown",
   "id": "839a283a",
   "metadata": {},
   "source": []
  },
  {
   "cell_type": "markdown",
   "id": "3f1dcceb",
   "metadata": {},
   "source": [
    "## Improving Model Performance"
   ]
  },
  {
   "cell_type": "markdown",
   "id": "cd0d9a07",
   "metadata": {},
   "source": []
  },
  {
   "cell_type": "markdown",
   "id": "919ce210",
   "metadata": {},
   "source": [
    "# Insights and Conclusion"
   ]
  },
  {
   "cell_type": "markdown",
   "id": "e50b355b",
   "metadata": {},
   "source": []
  },
  {
   "cell_type": "markdown",
   "id": "b09e1116",
   "metadata": {},
   "source": [
    "# References"
   ]
  },
  {
   "cell_type": "markdown",
   "id": "a23191f1",
   "metadata": {},
   "source": []
  }
 ],
 "metadata": {
  "kernelspec": {
   "display_name": "Python 3",
   "language": "python",
   "name": "python3"
  },
  "language_info": {
   "codemirror_mode": {
    "name": "ipython",
    "version": 3
   },
   "file_extension": ".py",
   "mimetype": "text/x-python",
   "name": "python",
   "nbconvert_exporter": "python",
   "pygments_lexer": "ipython3",
   "version": "3.12.6"
  }
 },
 "nbformat": 4,
 "nbformat_minor": 5
}
